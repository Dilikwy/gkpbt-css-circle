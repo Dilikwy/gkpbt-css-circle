{
  "nbformat": 4,
  "nbformat_minor": 0,
  "metadata": {
    "colab": {
      "provenance": [],
      "authorship_tag": "ABX9TyOhlalF9oLBZS1+YgUCSGbc",
      "include_colab_link": true
    },
    "kernelspec": {
      "name": "python3",
      "display_name": "Python 3"
    },
    "language_info": {
      "name": "python"
    }
  },
  "cells": [
    {
      "cell_type": "markdown",
      "metadata": {
        "id": "view-in-github",
        "colab_type": "text"
      },
      "source": [
        "<a href=\"https://colab.research.google.com/github/Dilikwy/gkpbt-css-circle/blob/main/PASSWORD_GENERATOR.ipynb\" target=\"_parent\"><img src=\"https://colab.research.google.com/assets/colab-badge.svg\" alt=\"Open In Colab\"/></a>"
      ]
    },
    {
      "cell_type": "code",
      "execution_count": 1,
      "metadata": {
        "id": "QsaYUhT2mF-0",
        "colab": {
          "base_uri": "https://localhost:8080/"
        },
        "outputId": "9854db33-098c-4f05-87ad-9637a8f67452"
      },
      "outputs": [
        {
          "name": "stdout",
          "output_type": "stream",
          "text": [
            "52^wk1%@\n",
            "Generate another password? (yes/no): Yes\n",
            "y5#%@!$2\n",
            "Generate another password? (yes/no): no\n"
          ]
        }
      ],
      "source": [
        "import random\n",
        "\n",
        "name = \"Okwy\"\n",
        "number = \"12345\"\n",
        "special_char = \"!@#$%^&\"\n",
        "\n",
        "all_char = name + number + special_char\n",
        "\n",
        "question = \"yes\"\n",
        "\n",
        "# While loop\n",
        "while question == \"yes\":\n",
        "    password_length = 8\n",
        "    password_count = 1\n",
        "\n",
        "    # For loop\n",
        "    for num in range(password_count):\n",
        "        password = \"\".join(random.sample(all_char, password_length))\n",
        "        print(password)\n",
        "\n",
        "    # Update question to exit loop\n",
        "    question = input(\"Generate another password? (yes/no): \").lower()\n"
      ]
    }
  ]
}